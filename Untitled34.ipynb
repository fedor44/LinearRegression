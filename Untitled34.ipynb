{
  "nbformat": 4,
  "nbformat_minor": 0,
  "metadata": {
    "colab": {
      "provenance": [],
      "authorship_tag": "ABX9TyM/Io1HHMour9NRHrGrfQ1a",
      "include_colab_link": true
    },
    "kernelspec": {
      "name": "python3",
      "display_name": "Python 3"
    },
    "language_info": {
      "name": "python"
    }
  },
  "cells": [
    {
      "cell_type": "markdown",
      "metadata": {
        "id": "view-in-github",
        "colab_type": "text"
      },
      "source": [
        "<a href=\"https://colab.research.google.com/github/fedor44/LinearRegression/blob/main/Untitled34.ipynb\" target=\"_parent\"><img src=\"https://colab.research.google.com/assets/colab-badge.svg\" alt=\"Open In Colab\"/></a>"
      ]
    },
    {
      "cell_type": "code",
      "execution_count": 39,
      "metadata": {
        "colab": {
          "base_uri": "https://localhost:8080/",
          "height": 334
        },
        "id": "yZu9AD8nvdqi",
        "outputId": "7018aeaa-676e-42ed-e305-681623b56f7b"
      },
      "outputs": [
        {
          "output_type": "stream",
          "name": "stdout",
          "text": [
            "=== 1994년생 기대수명 ===\n",
            "[75.972]\n",
            "\n"
          ]
        },
        {
          "output_type": "execute_result",
          "data": {
            "text/plain": [
              "[<matplotlib.lines.Line2D at 0x7fad1829d370>]"
            ]
          },
          "metadata": {},
          "execution_count": 39
        },
        {
          "output_type": "display_data",
          "data": {
            "text/plain": [
              "<Figure size 432x288 with 1 Axes>"
            ],
            "image/png": "[encoded data removed]"
          },
          "metadata": {
            "needs_background": "light"
          }
        }
      ],
      "source": [
        "# 선형 회귀 분석\n",
        "import numpy as np\n",
        "from sklearn import linear_model\n",
        "import matplotlib.pylab as plt\n",
        "\n",
        "# 선형 회귀 모델 생성\n",
        "reg=linear_model.LinearRegression()\n",
        "\n",
        "X=[[1930],[1940],[1950],[1965],[1972],[1982],[1992],[2010],[2016],[2022]]\n",
        "y=[59,62,70,69,71,74,75,77,80,85]\n",
        "\n",
        "# 학습\n",
        "reg.fit(X,y)\n",
        "\n",
        "print(\"=== 1994년생 기대수명 ===\")\n",
        "print(reg.predict([[1994]]).round(3))\n",
        "print()\n",
        "\n",
        "# 그래프로 표현\n",
        "plt.scatter(X,y,color='red',marker='D')\n",
        "y_pred=reg.predict(X)\n",
        "plt.plot(X,y_pred,color='blue',linewidth=3)"
      ]
    },
    {
      "cell_type": "code",
      "source": [
        "# MSE\n",
        "from sklearn.metrics import mean_squared_error\n",
        "\n",
        "predictedVal=[] # 예측 값\n",
        "\n",
        "for i in X:\n",
        "  predictedVal.append(reg.predict([i]).round(0))\n",
        "\n",
        "# 2차원 array 를 1차원으로 변환\n",
        "#predictedVal=[i[0] for i in predictedVal]\n",
        "\n",
        "realVal=[59,62,70,69,71,74,75,77,80,85] # 실제 값 (y와 동일)\n",
        "\n",
        "print(\"=== 평균제곱오차(MSE) ===\")\n",
        "print(mean_squared_error(realVal,predictedVal))\n",
        "print()\n",
        "\n",
        "# R2\n",
        "from sklearn.metrics import r2_score\n",
        "\n",
        "print(\"=== 결정계수(R2) ===\")\n",
        "print(r2_score(realVal,predictedVal))"
      ],
      "metadata": {
        "colab": {
          "base_uri": "https://localhost:8080/"
        },
        "id": "xkxEIl1BzX2B",
        "outputId": "e3e1ac80-42df-4fe6-cfe3-ffcbd6fc7794"
      },
      "execution_count": 48,
      "outputs": [
        {
          "output_type": "stream",
          "name": "stdout",
          "text": [
            "=== 평균제곱오차(MSE) ===\n",
            "3.7\n",
            "\n",
            "=== 결정계수(R2) ===\n",
            "0.9331647398843931\n"
          ]
        }
      ]
    }
  ]
}